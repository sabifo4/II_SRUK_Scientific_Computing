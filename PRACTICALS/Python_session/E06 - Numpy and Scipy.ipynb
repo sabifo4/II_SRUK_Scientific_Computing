{
 "cells": [
  {
   "cell_type": "markdown",
   "metadata": {},
   "source": [
    "# Episode 6: Numpy and SciPy (numeric Python part 1)\n",
    "\n",
    "- How do you manipulate large amounts of data?\n",
    "- How do you deal with multi-dimensional structures?\n",
    "- How do you get information on collections of data?\n",
    "\n"
   ]
  },
  {
   "cell_type": "markdown",
   "metadata": {},
   "source": [
    "# Numpy and SciPy\n",
    "- More interesting for people working in **physical sciences and engineering**.\n",
    "- **Numpy** and **SciPy** are the Python answer to **MATLAB** users:\n",
    "    - https://docs.scipy.org/doc/numpy/user/numpy-for-matlab-users.html  \n",
    "- Numpy is **THE PACKAGE** to deal with any kind of multidimensional, normally numerical data (although it works with any data types).    \n",
    "- In combination with SciPy, it can be used to solve:\n",
    "    - Linear algebra problems\n",
    "    - Fourier transform problems\n",
    "    - Random number capabilities\n",
    "    - Ordinary and partial diferential equations\n",
    "    - Equations root finding\n",
    "    - Optimization routines\n",
    "    - Fitting experimental data\n",
    "\n",
    "- Packages are imported with:\n",
    "\n",
    "```python\n",
    "import numpy as np\n",
    "import scipy\n",
    "```"
   ]
  },
  {
   "cell_type": "code",
   "execution_count": null,
   "metadata": {},
   "outputs": [],
   "source": []
  },
  {
   "cell_type": "markdown",
   "metadata": {},
   "source": [
    "## Creating and using arrays\n",
    "- They are the basic Numpy structure: collections of data **of the same type**, potentially with multiple dimensions.\n",
    "- There are several ways of creating arrays:\n",
    "\n",
    "    - *n* numbers linearly spaced between *start* and *stop*\n",
    "    \n",
    "            np.linspace(start, stop, n)   \n",
    "            \n",
    "    - numbers between *start* and *stop* separated by *step*\n",
    "\n",
    "            np.arange(start, stop, step)\n",
    "            \n",
    "    - Array with shape *shape* filled with zeros, ones or random numbers\n",
    "\n",
    "            np.zeros(shape)  \n",
    "            np.ones(shape)\n",
    "            np.random.random(shape)\n",
    "\n",
    "- Arrays **ARE NOT LISTS**, although they can be created out of lists\n",
    "\n",
    "        np.array(my_list)\n",
    "        \n",
    "- Arrays can be used in whatever mathematical operation where the data type they contain can be used.\n",
    "- Typically, arrays are used as a whole, being the individual elements not so important.\n",
    "- Check the help on arrays with:\n",
    "\n",
    "        help(np.ndarray)"
   ]
  },
  {
   "cell_type": "code",
   "execution_count": 21,
   "metadata": {},
   "outputs": [],
   "source": []
  },
  {
   "cell_type": "markdown",
   "metadata": {},
   "source": [
    "## Loading and saving arrays\n",
    "- Arrays can be loaded from and save to text files\n",
    "\n",
    "        my_array = np.loadtxt('path/to_my_file.txt')\n",
    "        np.savetxt('path/to_my_file.txt', my_array)\n",
    "        \n",
    "- Only one array cna be saved per file, but many arrays can be put together in a single one by *stacking* them."
   ]
  },
  {
   "cell_type": "code",
   "execution_count": null,
   "metadata": {},
   "outputs": [],
   "source": []
  }
 ],
 "metadata": {
  "kernelspec": {
   "display_name": "Python 3",
   "language": "python",
   "name": "python3"
  },
  "language_info": {
   "codemirror_mode": {
    "name": "ipython",
    "version": 3
   },
   "file_extension": ".py",
   "mimetype": "text/x-python",
   "name": "python",
   "nbconvert_exporter": "python",
   "pygments_lexer": "ipython3",
   "version": "3.7.0"
  }
 },
 "nbformat": 4,
 "nbformat_minor": 2
}
