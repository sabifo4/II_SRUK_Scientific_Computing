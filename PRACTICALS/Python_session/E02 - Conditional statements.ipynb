{
 "cells": [
  {
   "cell_type": "markdown",
   "metadata": {},
   "source": [
    "# Episode 2: Conditional statements\n",
    "\n",
    "- How do we evaluate conditions?\n",
    "- How do we choose between several options?\n",
    "- Can we have a default course of action?"
   ]
  },
  {
   "cell_type": "code",
   "execution_count": null,
   "metadata": {},
   "outputs": [],
   "source": []
  },
  {
   "cell_type": "markdown",
   "metadata": {},
   "source": [
    "# *if* statement\n",
    "- This is the simplest conditional statement.\n",
    "- It can be read as \n",
    "\n",
    "    *if* (some condition is true): \n",
    "            (do some stuff)\n",
    "            \n",
    "- It has to start with the word *if* followed by a conditon that can be True or False, and **MUST** finish with a colon:\n",
    "- The body of the conditional statement (do some stuff) **MUST** be indented with respect the opening statement\n",
    "    - If the condition is True, (do some stuff) is excecuted\n",
    "    - If it is false, that part of the code is ignored and the execution continues with the next line of code with the same indentation than the opening *if*"
   ]
  },
  {
   "cell_type": "code",
   "execution_count": null,
   "metadata": {},
   "outputs": [],
   "source": []
  },
  {
   "cell_type": "markdown",
   "metadata": {},
   "source": [
    "## Conditional operators\n",
    "- Comparison operators work with numbers (ocasionally with strings, too, but ignore that, for now):\n",
    "    - Equal to: ==\n",
    "    - Not equal to: !=\n",
    "    - Greater than, greater than or equal to: > , >=\n",
    "    - Less than, less than or equal to: < , <=\n",
    "- Logical operators work on boolean variables: \n",
    "    - True y both are true: and\n",
    "    - True if one of them is true: or\n",
    "    - True if variable is false: not\n",
    "- Comparison operators are executed **BEFORE** logical operator from left to right\n",
    "- Then logical operators are executed, with *not* before *and* and this before *or*"
   ]
  },
  {
   "cell_type": "code",
   "execution_count": null,
   "metadata": {},
   "outputs": [],
   "source": []
  },
  {
   "cell_type": "markdown",
   "metadata": {},
   "source": [
    "# *if* ... *else* \n",
    "- Used to chose between two possible options\n",
    "- If the condition is fullfiled, something is done; if it is note, something else is done. \n",
    "- Both *if* and *else* lines **MUST** finish with a colon :"
   ]
  },
  {
   "cell_type": "code",
   "execution_count": null,
   "metadata": {},
   "outputs": [],
   "source": []
  },
  {
   "cell_type": "markdown",
   "metadata": {},
   "source": [
    "# *if* ... *elif* ... *else* \n",
    "- To chose betweet several options. \n",
    "- There can be as many *elif* statements as needed. \n",
    "- There can be only one *else* (or none)\n",
    "- Conditions are evaluated from top to bottom\n",
    "    - First the condition of *if* is evaluated. If true, that part of the code is executed and then the program continues after the conditional statements.\n",
    "    - If it is not true, then the condition for the first *elif* is evaluated; if true, that part of the code is executed and then the program continues after the conditional statements.\n",
    "    - And so on...\n",
    "    - If none of the conditions is true, then the code of the *else* part (if present) is executed. "
   ]
  },
  {
   "cell_type": "code",
   "execution_count": null,
   "metadata": {},
   "outputs": [],
   "source": []
  },
  {
   "cell_type": "markdown",
   "metadata": {},
   "source": [
    "## Nested *if*\n",
    "- There can be *if* statemenst inside other *if* statements.\n",
    "- The nested *if*s have to be indented one more level.\n",
    "- Nested *if*s have to finish before the begining of the *elif* or *else* statements of the outer *if*, if present. "
   ]
  },
  {
   "cell_type": "code",
   "execution_count": null,
   "metadata": {},
   "outputs": [],
   "source": []
  },
  {
   "cell_type": "markdown",
   "metadata": {},
   "source": [
    "# Challenges\n",
    "\n",
    "1- If a = True and b = True, which of the following are correct?\n",
    "    - not a == False\n",
    "    - not (a or b) == True\n",
    "    - a and not b != True\n",
    "2- Write a code that checks the value of a variable called \"number\" and prints:\n",
    "    - \"Too big!\" if number is greater than 100\n",
    "    - \"Too small!\" if the number is smaller than or equal to 50\n",
    "    - \"Just right!\" if umber has values in between\n",
    "3- Modify the previous code to print \"It's even!\" or \"It's odd!\" when the number is \"Just right!\". (Tip: You can use the module operator % to find out if the number is odd or even).  "
   ]
  },
  {
   "cell_type": "code",
   "execution_count": null,
   "metadata": {},
   "outputs": [],
   "source": []
  }
 ],
 "metadata": {
  "kernelspec": {
   "display_name": "Python 3",
   "language": "python",
   "name": "python3"
  },
  "language_info": {
   "codemirror_mode": {
    "name": "ipython",
    "version": 3
   },
   "file_extension": ".py",
   "mimetype": "text/x-python",
   "name": "python",
   "nbconvert_exporter": "python",
   "pygments_lexer": "ipython3",
   "version": "3.7.1"
  }
 },
 "nbformat": 4,
 "nbformat_minor": 2
}
