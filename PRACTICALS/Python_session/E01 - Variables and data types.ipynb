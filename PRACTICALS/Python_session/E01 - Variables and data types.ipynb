{
 "cells": [
  {
   "cell_type": "markdown",
   "metadata": {},
   "source": [
    "# Episode 1: Variables and Data Types\n",
    "\n",
    "- What are variables?\n",
    "- How can you use them?\n",
    "- What type of variables are there?\n",
    "- How do you operate with variables?\n"
   ]
  },
  {
   "cell_type": "markdown",
   "metadata": {},
   "source": [
    "# Variables\n",
    "\n",
    "- Variables are used to store information\n",
    "- Their name can contain:\n",
    "    - Upper and lower case letters A-Z, a-z\n",
    "    - Numbers 0-9\n",
    "    - Underscore _\n",
    "- But, the name cannot start with a number!\n",
    "- Variables can be used wherever you can use the information they store\n",
    "- It is good practice to give variables meaningful names, related with the information they store\n",
    "- Values are asigned to a variable using the equal (=) sign."
   ]
  },
  {
   "cell_type": "code",
   "execution_count": 2,
   "metadata": {},
   "outputs": [],
   "source": []
  },
  {
   "cell_type": "markdown",
   "metadata": {},
   "source": [
    "# Data Types\n",
    "\n",
    "- The information stored in a variable can be of different types\n",
    "    - Integer numbers (**int**)\n",
    "    - Real numbers (**float**)\n",
    "    - Complex numbers (**complex**)\n",
    "    - Logical or boolean (**bool**)\n",
    "    - Strings (**str**)\n",
    "- The type of a variable can be found using the built-in function _type_ (eg. type(my_value) ).\n",
    "- Some functions, including mathematical operations, can only be used with certain data types\n",
    "\n",
    "Knowing the type of an objec is very important to avoid errors!!"
   ]
  },
  {
   "cell_type": "code",
   "execution_count": null,
   "metadata": {},
   "outputs": [],
   "source": []
  },
  {
   "cell_type": "markdown",
   "metadata": {},
   "source": [
    "## Lists\n",
    "- **Ordered** collection of other objects\n",
    "- Are created by listing the other objects between square brackets, separated with commas\n",
    "- Individual elmenents are accessed by using square brackets [] and the location, stariting in 0 for the first element."
   ]
  },
  {
   "cell_type": "code",
   "execution_count": null,
   "metadata": {},
   "outputs": [],
   "source": []
  },
  {
   "cell_type": "markdown",
   "metadata": {},
   "source": [
    "## Dictionaries\n",
    "- **Disordered** collection of objects\n",
    "- Are creeated by listing key: value pairs between curly brackets, separated with commas\n",
    "- Individual elements are accessed by using square brackets [] and the key of the element of interest"
   ]
  },
  {
   "cell_type": "code",
   "execution_count": null,
   "metadata": {},
   "outputs": [],
   "source": []
  },
  {
   "cell_type": "markdown",
   "metadata": {},
   "source": [
    "# Challenges\n",
    "\n",
    "1- Find the type of the following variables. Think first and then try to use the _type_ function. \n",
    "    - a = 2.18\n",
    "    - b = 'sea side'\n",
    "    - c = True\n",
    "    - d = 2374987443\n",
    "    \n",
    "2- What's the result of the following operations? Why do you get those resuls? Try other operations and see what you get.\n",
    "    - 2 + 5.5\n",
    "    - 5 / 2\n",
    "    - 5 // 2\n",
    "    - 'SRUK' + 'London'\n",
    "    - 'SRUK' - 'SR'\n",
    "    - ['cat', 'dog'] * 4\n",
    "    \n",
    "3- How do you obtain...\n",
    "    - The second element of the list: fruits = ['apple', 'orange', 'lemmon']\n",
    "    - The age of Tom in the dictionary: people = {'Louise': 45, 'Alexander': 32, 'Tom': 39}\n",
    "    - The last letter in the string: title = 'Star Trek'"
   ]
  },
  {
   "cell_type": "code",
   "execution_count": null,
   "metadata": {},
   "outputs": [],
   "source": []
  },
  {
   "cell_type": "markdown",
   "metadata": {},
   "source": [
    "# Do you want to know more?\n",
    "\n",
    "- Python annotations --> Informing the reader of the type of a variable\n",
    "- Tuples --> unmutable lists using parenthesis instead of square brackets my_tuple = (1, 2, 3)\n",
    "- Type conversions --> a = 4.2, what's int(a)? b = 'c', what's int(b)? "
   ]
  },
  {
   "cell_type": "code",
   "execution_count": null,
   "metadata": {},
   "outputs": [],
   "source": []
  }
 ],
 "metadata": {
  "kernelspec": {
   "display_name": "Python 3",
   "language": "python",
   "name": "python3"
  },
  "language_info": {
   "codemirror_mode": {
    "name": "ipython",
    "version": 3
   },
   "file_extension": ".py",
   "mimetype": "text/x-python",
   "name": "python",
   "nbconvert_exporter": "python",
   "pygments_lexer": "ipython3",
   "version": "3.7.1"
  }
 },
 "nbformat": 4,
 "nbformat_minor": 2
}
