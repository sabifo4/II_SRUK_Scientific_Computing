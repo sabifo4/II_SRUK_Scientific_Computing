{
 "cells": [
  {
   "cell_type": "markdown",
   "metadata": {},
   "source": [
    "# Episode 7: Pandas (numeric Python part 2)\n",
    "\n",
    "- How do you manipulate large amounts of data?\n",
    "- How do you deal with multi-dimensional structures?\n",
    "- How do you get information on collections of data?\n",
    "\n",
    "\n"
   ]
  },
  {
   "cell_type": "markdown",
   "metadata": {},
   "source": [
    "# Pandas\n",
    "- More interesting for people working in **data science, biological sciences and humanities**.\n",
    "- Is the Python answer to **R** users:\n",
    "    - https://pandas.pydata.org/pandas-docs/stable/getting_started/comparison/comparison_with_r.html\n",
    "- It provides high-performance, easy-to-use data structures and data analysis tools:\n",
    "    - Statistical analysis\n",
    "    - Hybrid (often incomplete) data structures combining numbers, text, etc.\n",
    "- It is imported with:\n",
    "\n",
    "        import pandas as pd\n",
    "        \n",
    "        "
   ]
  },
  {
   "cell_type": "code",
   "execution_count": null,
   "metadata": {},
   "outputs": [],
   "source": []
  },
  {
   "cell_type": "markdown",
   "metadata": {},
   "source": [
    "## Series and DataFrames\n",
    "- Typically, series are observations related to a single variable for a certain number of records\n",
    "- DataFrames combine one or more series in a table-like structures, with:\n",
    "    - Series are the columns\n",
    "    - Records are the rows\n",
    "- Pandas Series can be created out of lists and Numpy arrays\n"
   ]
  },
  {
   "cell_type": "code",
   "execution_count": null,
   "metadata": {},
   "outputs": [],
   "source": []
  },
  {
   "cell_type": "markdown",
   "metadata": {},
   "source": [
    "- Contrary to Numpy arrays, the Pandas Series and Dataframes are self describing:\n",
    "    - Have labelled columns and rows (indices) simplyfying the access to individual elements. \n",
    "\n",
    "            my_series.loc[index]\n",
    "            my_dataframe.loc[index]\n",
    "            my_dataframe.my_column_name.loc[index]\n",
    "\n",
    "- Indeces (row names) are integers by default, but they can be asigned labels, dates or any other object"
   ]
  },
  {
   "cell_type": "code",
   "execution_count": null,
   "metadata": {},
   "outputs": [],
   "source": []
  },
  {
   "cell_type": "markdown",
   "metadata": {},
   "source": [
    "## Loading data into Pandas\n",
    "- Pandas can read and save data from a huge range of formats: CSV, Excel, HDF5, SAS, SQL and many others!\n",
    "    - https://pandas.pydata.org/pandas-docs/stable/user_guide/io.html\n",
    "- For simple CSV data, one can do:\n",
    "\n",
    "        my_dataframe = pd.read_csv('path/to_my_data.csv')\n"
   ]
  },
  {
   "cell_type": "code",
   "execution_count": null,
   "metadata": {},
   "outputs": [],
   "source": []
  },
  {
   "cell_type": "markdown",
   "metadata": {},
   "source": [
    "## Getting information\n",
    "- DataFrames have numerous methods to get information out of the data they contain:\n",
    "    - Technical information about the data:    \n",
    "            \n",
    "            my_data_frame.info()\n",
    "            \n",
    "    - Show the first/last few records:\n",
    "    \n",
    "            my_data_frame.head()\n",
    "            my_data_frame.tail()\n",
    "            \n",
    "    - Show statistical information:\n",
    "    \n",
    "            my_data_frame.describe()"
   ]
  },
  {
   "cell_type": "code",
   "execution_count": null,
   "metadata": {},
   "outputs": [],
   "source": []
  }
 ],
 "metadata": {
  "kernelspec": {
   "display_name": "Python 3",
   "language": "python",
   "name": "python3"
  },
  "language_info": {
   "codemirror_mode": {
    "name": "ipython",
    "version": 3
   },
   "file_extension": ".py",
   "mimetype": "text/x-python",
   "name": "python",
   "nbconvert_exporter": "python",
   "pygments_lexer": "ipython3",
   "version": "3.7.0"
  }
 },
 "nbformat": 4,
 "nbformat_minor": 2
}
