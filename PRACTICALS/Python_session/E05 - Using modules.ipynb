{
 "cells": [
  {
   "cell_type": "markdown",
   "metadata": {},
   "source": [
    "# Episode 5: Using modules\n",
    "\n",
    "- How do you add functionality to the basic python?\n",
    "- How do you use a piece of code in a different file?\n",
    "\n"
   ]
  },
  {
   "cell_type": "markdown",
   "metadata": {},
   "source": [
    "# Modules\n",
    "- They are python files that contain other python objects, like variables or functions. \n",
    "- They are often grouped together forming *packages*\n",
    "- To use a module, you use can use:\n",
    "    - *import* my_module\n",
    "    - *import* my_module *as* m\n",
    "    - *from* my_module *import* some_function\n",
    "    - *from* my_package.my_module *import* whatever"
   ]
  },
  {
   "cell_type": "code",
   "execution_count": null,
   "metadata": {},
   "outputs": [],
   "source": []
  },
  {
   "cell_type": "markdown",
   "metadata": {},
   "source": [
    "# Using contents of a module\n",
    "- If you use the formula \"*from* my_module *import* some_function\", then some_function can be used normally as if it where from this same file. \n",
    "- If you use the formula \"*import* my_module\" then in order to use its contents, you need to append the module name the what you want to use, like:\n",
    "    - my_module.some_function\n",
    "    "
   ]
  },
  {
   "cell_type": "code",
   "execution_count": null,
   "metadata": {},
   "outputs": [],
   "source": []
  },
  {
   "cell_type": "markdown",
   "metadata": {},
   "source": [
    "# Getting help\n",
    "- *Normally* you can get a lot of information about a package, module or function by using the *help* function\n",
    "        \n",
    "        help(my_module)\n",
    "        \n",
    "- For this to work, you have to import them first. \n",
    "- **Warning**: If the information is too long, Jupiter will fail displaying it :P "
   ]
  },
  {
   "cell_type": "code",
   "execution_count": null,
   "metadata": {},
   "outputs": [],
   "source": []
  },
  {
   "cell_type": "markdown",
   "metadata": {},
   "source": [
    "# The PYTHONPATH\n",
    "- For the import process to work, the module or package of interest should be in your path. \n",
    "- Standard Python modules always are (in theory :P ) \n",
    "- Custom modules and packages might be trickier if they are anywhere not in the current working directory.\n",
    "- To find out what your current directory is, you can use: 'os.getcwd()' "
   ]
  },
  {
   "cell_type": "code",
   "execution_count": null,
   "metadata": {},
   "outputs": [],
   "source": []
  }
 ],
 "metadata": {
  "kernelspec": {
   "display_name": "Python 3",
   "language": "python",
   "name": "python3"
  },
  "language_info": {
   "codemirror_mode": {
    "name": "ipython",
    "version": 3
   },
   "file_extension": ".py",
   "mimetype": "text/x-python",
   "name": "python",
   "nbconvert_exporter": "python",
   "pygments_lexer": "ipython3",
   "version": "3.7.0"
  }
 },
 "nbformat": 4,
 "nbformat_minor": 2
}
