{
 "cells": [
  {
   "cell_type": "markdown",
   "metadata": {},
   "source": [
    "# Episode 3: Loops\n",
    "\n",
    "- What are loops useful for?\n",
    "- What are the components of a loop?\n",
    "- How can we control the evolution of a loop\n",
    "\n",
    "\n"
   ]
  },
  {
   "cell_type": "markdown",
   "metadata": {},
   "source": [
    "# Loops\n",
    "\n",
    "- Loops are used to do repetitive actions\n",
    "- They can be read as \n",
    "\n",
    "    *for* (each element) *in* (a collection of elements):\n",
    "            (do some stuff)\n",
    "            \n",
    "- The opening statement of the loop uses the words _for_ and _in_ and **MUST** finish with a colon:\n",
    "- As with conditionals, the body of the loop (do some stuff) **MUST** be indented with respect the opening statement\n",
    "- The (collection of elements) can be a list, a dictionary, a string, etc. Anything that is... well, a collection of elements\n",
    "- The loop is repeated as many times as elements are in the collection\n",
    "- (each element) is called the index of the loop and takes one value from the (collection of elements) sequencially."
   ]
  },
  {
   "cell_type": "code",
   "execution_count": null,
   "metadata": {},
   "outputs": [],
   "source": []
  },
  {
   "cell_type": "markdown",
   "metadata": {},
   "source": [
    "## Loop control\n",
    "- The loop will finish automatically when there are no more elements in the (collection of elements)\n",
    "- It can finish earlier if something bad happens or on purpose with the word _break_\n",
    "- We can force to continue with the next element of the collection using the word _continue_\n",
    "- Normally, _break_ and _continue_ are used inside an _if_ statement"
   ]
  },
  {
   "cell_type": "code",
   "execution_count": null,
   "metadata": {},
   "outputs": [],
   "source": []
  },
  {
   "cell_type": "markdown",
   "metadata": {},
   "source": [
    "## Nested loops\n",
    "- These are loops within loops\n",
    "- They are written in exactly the same way, but have to be indented one more level, as with nested conditionals. "
   ]
  },
  {
   "cell_type": "code",
   "execution_count": null,
   "metadata": {},
   "outputs": [],
   "source": []
  }
 ],
 "metadata": {
  "kernelspec": {
   "display_name": "Python 3",
   "language": "python",
   "name": "python3"
  },
  "language_info": {
   "codemirror_mode": {
    "name": "ipython",
    "version": 3
   },
   "file_extension": ".py",
   "mimetype": "text/x-python",
   "name": "python",
   "nbconvert_exporter": "python",
   "pygments_lexer": "ipython3",
   "version": "3.7.1"
  }
 },
 "nbformat": 4,
 "nbformat_minor": 2
}
